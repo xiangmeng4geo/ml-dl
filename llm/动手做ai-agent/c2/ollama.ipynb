{
 "cells": [
  {
   "metadata": {},
   "cell_type": "markdown",
   "source": "# llm",
   "id": "48fd27df50b81dba"
  },
  {
   "metadata": {
    "ExecuteTime": {
     "end_time": "2024-12-28T06:54:59.695771Z",
     "start_time": "2024-12-28T06:54:49.521343Z"
    }
   },
   "cell_type": "code",
   "source": [
    "from langchain_ollama import OllamaLLM\n",
    "\n",
    "model = OllamaLLM(model=\"qwen2.5:14b\", base_url=\"http://192.168.3.101:11434\")\n",
    "model.invoke(\"Come up with 10 names for a song about parrots\")"
   ],
   "id": "671cc45814a6081c",
   "outputs": [
    {
     "name": "stdout",
     "output_type": "stream",
     "text": [
      "Sure! Here are ten creative and catchy names for a song about parrots:\n",
      "\n",
      "1. **Tropical Tweets**\n",
      "2. **Feathers of Freedom**\n",
      "3. **Jungle Chirps**\n",
      "4. **Cockatoo's Carnival**\n",
      "5. **Rainbow Wings**\n",
      "6. **Parrot Parade**\n",
      "7. **Sulphur Sings**\n",
      "8. **Island Aviators**\n",
      "9. **Green Voices**\n",
      "10. **Plumage Symphony**\n",
      "\n",
      "Each of these titles captures different aspects and emotions that might be explored in a song about parrots, from their vibrant colors to the sounds they make and the places where they live.\n"
     ]
    }
   ],
   "execution_count": 1
  },
  {
   "metadata": {},
   "cell_type": "markdown",
   "source": "# chat",
   "id": "ed9cc70920499ff5"
  },
  {
   "metadata": {},
   "cell_type": "code",
   "outputs": [],
   "execution_count": null,
   "source": [
    "from langchain_ollama import ChatOllama\n",
    "\n",
    "llm = ChatOllama(\n",
    "    model = \"qwen2.5:14b\",\n",
    "    temperature = 0.8,\n",
    "    num_predict = 256,\n",
    "    base_url=\"http://192.168.3.101:11434\"\n",
    ")\n",
    "messages = [\n",
    "    (\"system\", \"You are a helpful translator. Translate the user sentence to Chinese.\"),\n",
    "    (\"human\", \"I love programming.\"),\n",
    "]\n",
    "llm.invoke(messages)"
   ],
   "id": "8dd9ebff72a5a3f0"
  },
  {
   "metadata": {},
   "cell_type": "markdown",
   "source": "# embed",
   "id": "5349c19a37404967"
  },
  {
   "metadata": {
    "ExecuteTime": {
     "end_time": "2024-12-28T06:56:46.940108Z",
     "start_time": "2024-12-28T06:56:46.413653Z"
    }
   },
   "cell_type": "code",
   "source": [
    "from langchain_ollama import OllamaEmbeddings\n",
    "\n",
    "embed = OllamaEmbeddings(\n",
    "    model=\"qwen2.5:14b\",\n",
    "    base_url=\"http://192.168.3.101:11434\"\n",
    ")\n",
    "input_text = \"The meaning of life is 42\"\n",
    "vector = embed.embed_query(input_text)\n",
    "print(len(vector))"
   ],
   "id": "42e2a0b24f60530f",
   "outputs": [
    {
     "name": "stdout",
     "output_type": "stream",
     "text": [
      "5120\n"
     ]
    }
   ],
   "execution_count": 4
  }
 ],
 "metadata": {
  "kernelspec": {
   "display_name": "Python 3",
   "language": "python",
   "name": "python3"
  },
  "language_info": {
   "codemirror_mode": {
    "name": "ipython",
    "version": 2
   },
   "file_extension": ".py",
   "mimetype": "text/x-python",
   "name": "python",
   "nbconvert_exporter": "python",
   "pygments_lexer": "ipython2",
   "version": "2.7.6"
  }
 },
 "nbformat": 4,
 "nbformat_minor": 5
}
